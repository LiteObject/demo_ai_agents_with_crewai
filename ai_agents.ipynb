{
  "nbformat": 4,
  "nbformat_minor": 0,
  "metadata": {
    "colab": {
      "provenance": [],
      "authorship_tag": "ABX9TyModFk24B/X4+5Hahll3JHN",
      "include_colab_link": true
    },
    "kernelspec": {
      "name": "python3",
      "display_name": "Python 3"
    },
    "language_info": {
      "name": "python"
    }
  },
  "cells": [
    {
      "cell_type": "markdown",
      "metadata": {
        "id": "view-in-github",
        "colab_type": "text"
      },
      "source": [
        "<a href=\"https://colab.research.google.com/github/LiteObject/demo_ai_agents_with_crewai/blob/main/ai_agents.ipynb\" target=\"_parent\"><img src=\"https://colab.research.google.com/assets/colab-badge.svg\" alt=\"Open In Colab\"/></a>"
      ]
    },
    {
      "cell_type": "markdown",
      "source": [
        "Install Crew AI"
      ],
      "metadata": {
        "id": "fHlZcuevjtbZ"
      }
    },
    {
      "cell_type": "code",
      "execution_count": 1,
      "metadata": {
        "colab": {
          "base_uri": "https://localhost:8080/"
        },
        "id": "Yu1DeR8JjcFX",
        "outputId": "977317b8-11b6-4c34-a0e4-46278e208d51"
      },
      "outputs": [
        {
          "output_type": "stream",
          "name": "stdout",
          "text": [
            "\u001b[2K     \u001b[90m━━━━━━━━━━━━━━━━━━━━━━━━━━━━━━━━━━━━━━━━\u001b[0m \u001b[32m51.0/51.0 kB\u001b[0m \u001b[31m894.1 kB/s\u001b[0m eta \u001b[36m0:00:00\u001b[0m\n",
            "\u001b[2K     \u001b[90m━━━━━━━━━━━━━━━━━━━━━━━━━━━━━━━━━━━━━━━━\u001b[0m \u001b[32m809.1/809.1 kB\u001b[0m \u001b[31m20.7 MB/s\u001b[0m eta \u001b[36m0:00:00\u001b[0m\n",
            "\u001b[2K     \u001b[90m━━━━━━━━━━━━━━━━━━━━━━━━━━━━━━━━━━━━━━━━\u001b[0m \u001b[32m257.5/257.5 kB\u001b[0m \u001b[31m13.6 MB/s\u001b[0m eta \u001b[36m0:00:00\u001b[0m\n",
            "\u001b[2K     \u001b[90m━━━━━━━━━━━━━━━━━━━━━━━━━━━━━━━━━━━━━━━━\u001b[0m \u001b[32m58.4/58.4 kB\u001b[0m \u001b[31m4.1 MB/s\u001b[0m eta \u001b[36m0:00:00\u001b[0m\n",
            "\u001b[2K     \u001b[90m━━━━━━━━━━━━━━━━━━━━━━━━━━━━━━━━━━━━━━━━\u001b[0m \u001b[32m105.7/105.7 kB\u001b[0m \u001b[31m8.7 MB/s\u001b[0m eta \u001b[36m0:00:00\u001b[0m\n",
            "\u001b[2K     \u001b[90m━━━━━━━━━━━━━━━━━━━━━━━━━━━━━━━━━━━━━━━━\u001b[0m \u001b[32m1.8/1.8 MB\u001b[0m \u001b[31m43.5 MB/s\u001b[0m eta \u001b[36m0:00:00\u001b[0m\n",
            "\u001b[2K     \u001b[90m━━━━━━━━━━━━━━━━━━━━━━━━━━━━━━━━━━━━━━━━\u001b[0m \u001b[32m260.9/260.9 kB\u001b[0m \u001b[31m18.9 MB/s\u001b[0m eta \u001b[36m0:00:00\u001b[0m\n",
            "\u001b[2K     \u001b[90m━━━━━━━━━━━━━━━━━━━━━━━━━━━━━━━━━━━━━━━━\u001b[0m \u001b[32m70.9/70.9 kB\u001b[0m \u001b[31m7.8 MB/s\u001b[0m eta \u001b[36m0:00:00\u001b[0m\n",
            "\u001b[2K     \u001b[90m━━━━━━━━━━━━━━━━━━━━━━━━━━━━━━━━━━━━━━━━\u001b[0m \u001b[32m2.0/2.0 MB\u001b[0m \u001b[31m70.8 MB/s\u001b[0m eta \u001b[36m0:00:00\u001b[0m\n",
            "\u001b[2K     \u001b[90m━━━━━━━━━━━━━━━━━━━━━━━━━━━━━━━━━━━━━━━━\u001b[0m \u001b[32m75.6/75.6 kB\u001b[0m \u001b[31m10.2 MB/s\u001b[0m eta \u001b[36m0:00:00\u001b[0m\n",
            "\u001b[2K     \u001b[90m━━━━━━━━━━━━━━━━━━━━━━━━━━━━━━━━━━━━━━━━\u001b[0m \u001b[32m50.8/50.8 kB\u001b[0m \u001b[31m5.8 MB/s\u001b[0m eta \u001b[36m0:00:00\u001b[0m\n",
            "\u001b[2K     \u001b[90m━━━━━━━━━━━━━━━━━━━━━━━━━━━━━━━━━━━━━━━━\u001b[0m \u001b[32m49.4/49.4 kB\u001b[0m \u001b[31m5.4 MB/s\u001b[0m eta \u001b[36m0:00:00\u001b[0m\n",
            "\u001b[2K     \u001b[90m━━━━━━━━━━━━━━━━━━━━━━━━━━━━━━━━━━━━━━━━\u001b[0m \u001b[32m77.8/77.8 kB\u001b[0m \u001b[31m9.3 MB/s\u001b[0m eta \u001b[36m0:00:00\u001b[0m\n",
            "\u001b[2K     \u001b[90m━━━━━━━━━━━━━━━━━━━━━━━━━━━━━━━━━━━━━━━━\u001b[0m \u001b[32m58.3/58.3 kB\u001b[0m \u001b[31m7.2 MB/s\u001b[0m eta \u001b[36m0:00:00\u001b[0m\n",
            "\u001b[2K     \u001b[90m━━━━━━━━━━━━━━━━━━━━━━━━━━━━━━━━━━━━━━━━\u001b[0m \u001b[32m53.0/53.0 kB\u001b[0m \u001b[31m4.5 MB/s\u001b[0m eta \u001b[36m0:00:00\u001b[0m\n",
            "\u001b[2K     \u001b[90m━━━━━━━━━━━━━━━━━━━━━━━━━━━━━━━━━━━━━━━━\u001b[0m \u001b[32m138.5/138.5 kB\u001b[0m \u001b[31m17.5 MB/s\u001b[0m eta \u001b[36m0:00:00\u001b[0m\n",
            "\u001b[?25h"
          ]
        }
      ],
      "source": [
        "!pip install -q crewai"
      ]
    },
    {
      "cell_type": "markdown",
      "source": [
        "* !: The exclamation mark ! is used in Colab notebooks to\n",
        "indicate that the command should be run in the shell or command line interface of the underlying system.\n",
        "* -q: The -q option stands for \"quiet\" and is used to suppress the output messages during the installation process. It makes the installation process less verbose.\n",
        "* 'crewai[tools]': This is the package name you want to install. In this case, it's 'crewai' with the [tools] specifier. The [tools] specifier indicates that you want to install additional tools or dependencies associated with the 'crewai' package."
      ],
      "metadata": {
        "id": "xsin2W4Oj-YU"
      }
    },
    {
      "cell_type": "code",
      "source": [
        "!pip install -q 'crewai[tools]'"
      ],
      "metadata": {
        "colab": {
          "base_uri": "https://localhost:8080/"
        },
        "id": "kXonJ-6Xj1SZ",
        "outputId": "c04323d9-142d-4b75-ff2b-5f3f97c95b9d"
      },
      "execution_count": 2,
      "outputs": [
        {
          "output_type": "stream",
          "name": "stdout",
          "text": [
            "\u001b[2K     \u001b[90m━━━━━━━━━━━━━━━━━━━━━━━━━━━━━━━━━━━━━━━━\u001b[0m \u001b[32m525.5/525.5 kB\u001b[0m \u001b[31m6.4 MB/s\u001b[0m eta \u001b[36m0:00:00\u001b[0m\n",
            "\u001b[2K     \u001b[90m━━━━━━━━━━━━━━━━━━━━━━━━━━━━━━━━━━━━━━━━\u001b[0m \u001b[32m191.3/191.3 kB\u001b[0m \u001b[31m7.9 MB/s\u001b[0m eta \u001b[36m0:00:00\u001b[0m\n",
            "\u001b[2K     \u001b[90m━━━━━━━━━━━━━━━━━━━━━━━━━━━━━━━━━━━━━━━━\u001b[0m \u001b[32m115.1/115.1 kB\u001b[0m \u001b[31m6.9 MB/s\u001b[0m eta \u001b[36m0:00:00\u001b[0m\n",
            "\u001b[2K     \u001b[90m━━━━━━━━━━━━━━━━━━━━━━━━━━━━━━━━━━━━━━━━\u001b[0m \u001b[32m337.4/337.4 kB\u001b[0m \u001b[31m9.2 MB/s\u001b[0m eta \u001b[36m0:00:00\u001b[0m\n",
            "\u001b[2K     \u001b[90m━━━━━━━━━━━━━━━━━━━━━━━━━━━━━━━━━━━━━━━━\u001b[0m \u001b[32m57.6/57.6 kB\u001b[0m \u001b[31m5.8 MB/s\u001b[0m eta \u001b[36m0:00:00\u001b[0m\n",
            "\u001b[2K     \u001b[90m━━━━━━━━━━━━━━━━━━━━━━━━━━━━━━━━━━━━━━━━\u001b[0m \u001b[32m10.0/10.0 MB\u001b[0m \u001b[31m27.5 MB/s\u001b[0m eta \u001b[36m0:00:00\u001b[0m\n",
            "\u001b[2K     \u001b[90m━━━━━━━━━━━━━━━━━━━━━━━━━━━━━━━━━━━━━━━━\u001b[0m \u001b[32m2.4/2.4 MB\u001b[0m \u001b[31m50.6 MB/s\u001b[0m eta \u001b[36m0:00:00\u001b[0m\n",
            "\u001b[2K     \u001b[90m━━━━━━━━━━━━━━━━━━━━━━━━━━━━━━━━━━━━━━━━\u001b[0m \u001b[32m92.1/92.1 kB\u001b[0m \u001b[31m11.3 MB/s\u001b[0m eta \u001b[36m0:00:00\u001b[0m\n",
            "\u001b[2K     \u001b[90m━━━━━━━━━━━━━━━━━━━━━━━━━━━━━━━━━━━━━━━━\u001b[0m \u001b[32m60.6/60.6 kB\u001b[0m \u001b[31m7.3 MB/s\u001b[0m eta \u001b[36m0:00:00\u001b[0m\n",
            "\u001b[2K     \u001b[90m━━━━━━━━━━━━━━━━━━━━━━━━━━━━━━━━━━━━━━━━\u001b[0m \u001b[32m41.3/41.3 kB\u001b[0m \u001b[31m4.9 MB/s\u001b[0m eta \u001b[36m0:00:00\u001b[0m\n",
            "\u001b[2K     \u001b[90m━━━━━━━━━━━━━━━━━━━━━━━━━━━━━━━━━━━━━━━━\u001b[0m \u001b[32m5.4/5.4 MB\u001b[0m \u001b[31m61.8 MB/s\u001b[0m eta \u001b[36m0:00:00\u001b[0m\n",
            "\u001b[2K     \u001b[90m━━━━━━━━━━━━━━━━━━━━━━━━━━━━━━━━━━━━━━━━\u001b[0m \u001b[32m6.8/6.8 MB\u001b[0m \u001b[31m78.6 MB/s\u001b[0m eta \u001b[36m0:00:00\u001b[0m\n",
            "\u001b[2K     \u001b[90m━━━━━━━━━━━━━━━━━━━━━━━━━━━━━━━━━━━━━━━━\u001b[0m \u001b[32m67.3/67.3 kB\u001b[0m \u001b[31m7.5 MB/s\u001b[0m eta \u001b[36m0:00:00\u001b[0m\n",
            "\u001b[?25h  Installing build dependencies ... \u001b[?25l\u001b[?25hdone\n",
            "  Getting requirements to build wheel ... \u001b[?25l\u001b[?25hdone\n",
            "  Preparing metadata (pyproject.toml) ... \u001b[?25l\u001b[?25hdone\n",
            "\u001b[2K     \u001b[90m━━━━━━━━━━━━━━━━━━━━━━━━━━━━━━━━━━━━━━━━\u001b[0m \u001b[32m698.9/698.9 kB\u001b[0m \u001b[31m53.9 MB/s\u001b[0m eta \u001b[36m0:00:00\u001b[0m\n",
            "\u001b[2K     \u001b[90m━━━━━━━━━━━━━━━━━━━━━━━━━━━━━━━━━━━━━━━━\u001b[0m \u001b[32m1.6/1.6 MB\u001b[0m \u001b[31m71.4 MB/s\u001b[0m eta \u001b[36m0:00:00\u001b[0m\n",
            "\u001b[2K     \u001b[90m━━━━━━━━━━━━━━━━━━━━━━━━━━━━━━━━━━━━━━━━\u001b[0m \u001b[32m67.6/67.6 kB\u001b[0m \u001b[31m7.5 MB/s\u001b[0m eta \u001b[36m0:00:00\u001b[0m\n",
            "\u001b[2K     \u001b[90m━━━━━━━━━━━━━━━━━━━━━━━━━━━━━━━━━━━━━━━━\u001b[0m \u001b[32m233.4/233.4 kB\u001b[0m \u001b[31m21.7 MB/s\u001b[0m eta \u001b[36m0:00:00\u001b[0m\n",
            "\u001b[2K     \u001b[90m━━━━━━━━━━━━━━━━━━━━━━━━━━━━━━━━━━━━━━━━\u001b[0m \u001b[32m131.5/131.5 kB\u001b[0m \u001b[31m13.3 MB/s\u001b[0m eta \u001b[36m0:00:00\u001b[0m\n",
            "\u001b[2K     \u001b[90m━━━━━━━━━━━━━━━━━━━━━━━━━━━━━━━━━━━━━━━━\u001b[0m \u001b[32m278.2/278.2 kB\u001b[0m \u001b[31m24.2 MB/s\u001b[0m eta \u001b[36m0:00:00\u001b[0m\n",
            "\u001b[2K     \u001b[90m━━━━━━━━━━━━━━━━━━━━━━━━━━━━━━━━━━━━━━━━\u001b[0m \u001b[32m71.1/71.1 kB\u001b[0m \u001b[31m8.1 MB/s\u001b[0m eta \u001b[36m0:00:00\u001b[0m\n",
            "\u001b[2K     \u001b[90m━━━━━━━━━━━━━━━━━━━━━━━━━━━━━━━━━━━━━━━━\u001b[0m \u001b[32m3.0/3.0 MB\u001b[0m \u001b[31m65.5 MB/s\u001b[0m eta \u001b[36m0:00:00\u001b[0m\n",
            "\u001b[2K     \u001b[90m━━━━━━━━━━━━━━━━━━━━━━━━━━━━━━━━━━━━━━━━\u001b[0m \u001b[32m342.2/342.2 kB\u001b[0m \u001b[31m24.2 MB/s\u001b[0m eta \u001b[36m0:00:00\u001b[0m\n",
            "\u001b[2K     \u001b[90m━━━━━━━━━━━━━━━━━━━━━━━━━━━━━━━━━━━━━━━━\u001b[0m \u001b[32m195.4/195.4 kB\u001b[0m \u001b[31m22.3 MB/s\u001b[0m eta \u001b[36m0:00:00\u001b[0m\n",
            "\u001b[2K     \u001b[90m━━━━━━━━━━━━━━━━━━━━━━━━━━━━━━━━━━━━━━━━\u001b[0m \u001b[32m21.6/21.6 MB\u001b[0m \u001b[31m50.5 MB/s\u001b[0m eta \u001b[36m0:00:00\u001b[0m\n",
            "\u001b[2K     \u001b[90m━━━━━━━━━━━━━━━━━━━━━━━━━━━━━━━━━━━━━━━━\u001b[0m \u001b[32m467.2/467.2 kB\u001b[0m \u001b[31m38.5 MB/s\u001b[0m eta \u001b[36m0:00:00\u001b[0m\n",
            "\u001b[2K     \u001b[90m━━━━━━━━━━━━━━━━━━━━━━━━━━━━━━━━━━━━━━━━\u001b[0m \u001b[32m78.7/78.7 kB\u001b[0m \u001b[31m8.7 MB/s\u001b[0m eta \u001b[36m0:00:00\u001b[0m\n",
            "\u001b[2K     \u001b[90m━━━━━━━━━━━━━━━━━━━━━━━━━━━━━━━━━━━━━━━━\u001b[0m \u001b[32m71.5/71.5 kB\u001b[0m \u001b[31m8.1 MB/s\u001b[0m eta \u001b[36m0:00:00\u001b[0m\n",
            "\u001b[2K     \u001b[90m━━━━━━━━━━━━━━━━━━━━━━━━━━━━━━━━━━━━━━━━\u001b[0m \u001b[32m62.7/62.7 kB\u001b[0m \u001b[31m7.6 MB/s\u001b[0m eta \u001b[36m0:00:00\u001b[0m\n",
            "\u001b[2K     \u001b[90m━━━━━━━━━━━━━━━━━━━━━━━━━━━━━━━━━━━━━━━━\u001b[0m \u001b[32m46.0/46.0 kB\u001b[0m \u001b[31m4.8 MB/s\u001b[0m eta \u001b[36m0:00:00\u001b[0m\n",
            "\u001b[2K     \u001b[90m━━━━━━━━━━━━━━━━━━━━━━━━━━━━━━━━━━━━━━━━\u001b[0m \u001b[32m856.7/856.7 kB\u001b[0m \u001b[31m45.7 MB/s\u001b[0m eta \u001b[36m0:00:00\u001b[0m\n",
            "\u001b[2K     \u001b[90m━━━━━━━━━━━━━━━━━━━━━━━━━━━━━━━━━━━━━━━━\u001b[0m \u001b[32m98.7/98.7 kB\u001b[0m \u001b[31m9.3 MB/s\u001b[0m eta \u001b[36m0:00:00\u001b[0m\n",
            "\u001b[2K     \u001b[90m━━━━━━━━━━━━━━━━━━━━━━━━━━━━━━━━━━━━━━━━\u001b[0m \u001b[32m341.4/341.4 kB\u001b[0m \u001b[31m24.3 MB/s\u001b[0m eta \u001b[36m0:00:00\u001b[0m\n",
            "\u001b[2K     \u001b[90m━━━━━━━━━━━━━━━━━━━━━━━━━━━━━━━━━━━━━━━━\u001b[0m \u001b[32m3.4/3.4 MB\u001b[0m \u001b[31m62.1 MB/s\u001b[0m eta \u001b[36m0:00:00\u001b[0m\n",
            "\u001b[2K     \u001b[90m━━━━━━━━━━━━━━━━━━━━━━━━━━━━━━━━━━━━━━━━\u001b[0m \u001b[32m1.3/1.3 MB\u001b[0m \u001b[31m56.7 MB/s\u001b[0m eta \u001b[36m0:00:00\u001b[0m\n",
            "\u001b[2K     \u001b[90m━━━━━━━━━━━━━━━━━━━━━━━━━━━━━━━━━━━━━━━━\u001b[0m \u001b[32m130.2/130.2 kB\u001b[0m \u001b[31m10.6 MB/s\u001b[0m eta \u001b[36m0:00:00\u001b[0m\n",
            "\u001b[2K     \u001b[90m━━━━━━━━━━━━━━━━━━━━━━━━━━━━━━━━━━━━━━━━\u001b[0m \u001b[32m194.4/194.4 kB\u001b[0m \u001b[31m14.1 MB/s\u001b[0m eta \u001b[36m0:00:00\u001b[0m\n",
            "\u001b[2K     \u001b[90m━━━━━━━━━━━━━━━━━━━━━━━━━━━━━━━━━━━━━━━━\u001b[0m \u001b[32m2.1/2.1 MB\u001b[0m \u001b[31m37.2 MB/s\u001b[0m eta \u001b[36m0:00:00\u001b[0m\n",
            "\u001b[2K     \u001b[90m━━━━━━━━━━━━━━━━━━━━━━━━━━━━━━━━━━━━━━━━\u001b[0m \u001b[32m3.0/3.0 MB\u001b[0m \u001b[31m41.6 MB/s\u001b[0m eta \u001b[36m0:00:00\u001b[0m\n",
            "\u001b[2K     \u001b[90m━━━━━━━━━━━━━━━━━━━━━━━━━━━━━━━━━━━━━━━━\u001b[0m \u001b[32m86.8/86.8 kB\u001b[0m \u001b[31m10.4 MB/s\u001b[0m eta \u001b[36m0:00:00\u001b[0m\n",
            "\u001b[?25h  Building wheel for pypika (pyproject.toml) ... \u001b[?25l\u001b[?25hdone\n"
          ]
        }
      ]
    },
    {
      "cell_type": "code",
      "source": [
        "from google.colab import userdata\n",
        "import os\n",
        "from crewai import Agent, Task, Crew, Process\n",
        "from crewai_tools import SerperDevTool"
      ],
      "metadata": {
        "id": "sZnsDWIvmkSh"
      },
      "execution_count": 3,
      "outputs": []
    },
    {
      "cell_type": "code",
      "source": [
        "search_tool = SerperDevTool()"
      ],
      "metadata": {
        "id": "z92Z4y3rm-U5"
      },
      "execution_count": 4,
      "outputs": []
    },
    {
      "cell_type": "code",
      "source": [
        "from langchain_openai import ChatOpenAI"
      ],
      "metadata": {
        "id": "YiPjMsiHnGNq"
      },
      "execution_count": 9,
      "outputs": []
    },
    {
      "cell_type": "code",
      "source": [
        "# Import Colab Secrets userdata module\n",
        "from google.colab import userdata\n",
        "\n",
        "# Set OpenAI API key\n",
        "import os\n",
        "os.environ[\"OPENAI_API_KEY\"] = userdata.get('OPENAI_API_KEY')\n",
        "\n",
        "# Set other API keys similarly\n",
        "os.environ[\"SERPER_API_KEY\"] = userdata.get('SERPER_API_KEY')"
      ],
      "metadata": {
        "id": "7IAQftc8rpS5"
      },
      "execution_count": 11,
      "outputs": []
    },
    {
      "cell_type": "markdown",
      "source": [
        "[How to create an AI Agent with CrewAI](https://docs.crewai.com/core-concepts/Agents/#creating-an-agent)"
      ],
      "metadata": {
        "id": "lmAsUOZ2pvC2"
      }
    },
    {
      "cell_type": "code",
      "source": [
        "# Define your agents with roles and goals\n",
        "researcher = Agent(\n",
        "    role = \"Senior Research Assistant\",\n",
        "    goal = \"Look up the latest advancements in AI Agents\",\n",
        "    backstory=\"\"\"You work at a leading tech think tank.\n",
        "    Your expertise lies in identifying emerging trends.\n",
        "    You have a knack for dissecting complex data and presenting actionable insights.\n",
        "    \"\"\",\n",
        "    verbose = True,\n",
        "    allow_delegation = False,\n",
        "    tools = [search_tool],\n",
        "    llm = ChatOpenAI(model_name=\"gpt-4-turbo-preview\", temperature=0.2)\n",
        ")"
      ],
      "metadata": {
        "id": "_G5dpHGTnS3Q"
      },
      "execution_count": 13,
      "outputs": []
    },
    {
      "cell_type": "code",
      "source": [
        "writer = Agent(\n",
        "    role = \"Professional Short-Article Writer\",\n",
        "    goal = \"Summarize the latest advancement in AI agents in a concise article\",\n",
        "    backstory = \"\"\"You are a renowned Content Strategist,\n",
        "    known for your insightful and engaging articles.\n",
        "    You transform complex concepts into compelling narratives.\n",
        "    \"\"\",\n",
        "    verbose = True,\n",
        "    allow_delegation = True,\n",
        "    llm = ChatOpenAI(model_name=\"gpt-4-turbo-preview\", temperature=0.7)\n",
        ")"
      ],
      "metadata": {
        "id": "V2w87ZnCsEPh"
      },
      "execution_count": 14,
      "outputs": []
    },
    {
      "cell_type": "code",
      "source": [
        "# Create tasks for your agents\n",
        "research_task = Task(\n",
        "    description = \"\"\"Conduct a comprehensive analysis of the latest advancements in AI Agents!\n",
        "    Identify key trends, breakthrough technologies, and potential industry impacts.\n",
        "    \"\"\",\n",
        "    expected_output=\"Full analysis report in bullet points\",\n",
        "    agent = researcher\n",
        ")"
      ],
      "metadata": {
        "id": "jwD31jVEt5oT"
      },
      "execution_count": 15,
      "outputs": []
    },
    {
      "cell_type": "code",
      "source": [
        "write_task = Task(\n",
        "    description = \"\"\"Using the insights provided, write a short article that highlights the most\n",
        "    significant AI Agent advancements. Your post should be informative yet accessible, catering\n",
        "    to a tech-savvy audience. Make it sound cool, avoid complex words so it doesn't sound like AI.\n",
        "    \"\"\",\n",
        "    expected_output=\"Full blog post of at least 3 paragraphs\",\n",
        "    agent = writer\n",
        ")"
      ],
      "metadata": {
        "id": "RIPkjQKEvRJO"
      },
      "execution_count": 16,
      "outputs": []
    },
    {
      "cell_type": "code",
      "source": [
        "# Instantiate your crew with a sequential process\n",
        "crew = Crew(\n",
        "    agents = [researcher, writer],\n",
        "    tasks = [research_task, write_task],\n",
        "    verbose = 1\n",
        ")"
      ],
      "metadata": {
        "id": "3Qb_oTx7vw5-"
      },
      "execution_count": 18,
      "outputs": []
    },
    {
      "cell_type": "code",
      "source": [
        "result = crew.kickoff()\n",
        "print(\"######################################################################\")\n",
        "print(result)"
      ],
      "metadata": {
        "colab": {
          "base_uri": "https://localhost:8080/"
        },
        "id": "FnbC0doSwoSY",
        "outputId": "53a4082b-4e75-48b5-f204-88b868c0f8b1"
      },
      "execution_count": 19,
      "outputs": [
        {
          "output_type": "stream",
          "name": "stdout",
          "text": [
            "\u001b[1m\u001b[93m [DEBUG]: == Working Agent: Senior Research Assistant\u001b[00m\n",
            "\u001b[93m \n",
            "\n",
            "\n",
            "Search results: Title: AI Advancements in 2023: A Year of Marvels and Milestones\n",
            "Link: https://aifordinosaurs.substack.com/p/ai-advancements-in-2023-a-year-of\n",
            "Snippet: In the ever-evolving world of technology, 2023 stands out as a year of significant advancements in artificial intelligence.\n",
            "---\n",
            "Title: AI Agents Assemble For The Automation Revolution - Forbes\n",
            "Link: https://www.forbes.com/sites/sylvainduranton/2023/12/07/ai-agents-assemble-for-the-automation-revolution/\n",
            "Snippet: The latest breakthrough in the development of AI agents is the use of large language models (LLMs). LLMs, such as OpenAI's GPT-4, have the ...\n",
            "---\n",
            "Title: 10 top AI and machine learning trends for 2024 | TechTarget\n",
            "Link: https://www.techtarget.com/searchenterpriseai/tip/9-top-AI-and-machine-learning-trends\n",
            "Snippet: In 2023, generative AI projects entered the top 10 most popular projects across the code hosting platform for the first time, with projects such ...\n",
            "---\n",
            "Title: Latest Trends in Agentic AI (AI Agents) | by Slava Kurilyak | Produvia\n",
            "Link: https://medium.com/produvia/latest-trends-in-agentic-ai-ai-agents-2ab60d37fdb4\n",
            "Snippet: Another trend in agentic AI is the advancement of multimedia capabilities, particularly in video generation. The HAI highlights the hope for ...\n",
            "---\n",
            "Title: What's New in Artificial Intelligence From the 2023 Gartner Hype ...\n",
            "Link: https://www.gartner.com/en/articles/what-s-new-in-artificial-intelligence-from-the-2023-gartner-hype-cycle\n",
            "Snippet: Innovations that will fuel generative AI advancement · AI simulation · Causal AI · Data labeling and annotation · First-principles · Foundation ...\n",
            "---\n",
            "Title: The 3 Most Important AI Innovations of 2023 | TIME\n",
            "Link: https://time.com/6547982/3-big-ai-innovations-from-2023/\n",
            "Snippet: Multimodality, constitutional AI and text-to-video were three of the biggest innovations in artificial intelligence in the past year.\n",
            "---\n",
            "Title: AI in 2023: A year of breakthroughs that left no human thing ... - ZDNET\n",
            "Link: https://www.zdnet.com/article/ai-in-2023-a-year-of-breakthroughs-that-left-no-human-thing-unchanged/\n",
            "Snippet: In 2023, the entertainment industry saw a notable AI advancement with the release of \"Now and Then\", a new Beatles song. This achievement was ...\n",
            "---\n",
            "Title: The major trends in Artificial Intelligence for 2023 - Bocasay\n",
            "Link: https://www.bocasay.com/major-ai-trends-2023/\n",
            "Snippet: Top AI Trends in 2023 · Generative AI · UX-Driven AI · AI Assistants · AI Healthcare · Computer Vision · AI-Powered Cybersecurity · Manufacturing Hyper Automation · AI ...\n",
            "---\n",
            "Title: What Will 2024 Hold In AI Advancements? - Forbes\n",
            "Link: https://www.forbes.com/sites/cindygordon/2023/12/26/what-will-2023-hold-in-ai-advancements/\n",
            "Snippet: In the field of AI, it has indeed been quite the year of advancements and disappointments. Here are 13 AI predictions for the coming year.\n",
            "---\n",
            "Title: News Shaping AI in 2023 - Part 3 , AI Agents ! | by BoredGeekSociety\n",
            "Link: https://medium.com/@boredgeeksociety/news-shaping-ai-in-2023-part-3-ai-agents-8746f6b38623\n",
            "Snippet: This is the 3rd part of a retrospective series summarizing AI core advancement in 2023! Beyond ChatGPT, AI is making strides in all fields!\n",
            "---\n",
            "\n",
            "\u001b[00m\n",
            "\u001b[93m \n",
            "\n",
            "\n",
            "Search results: Title: Agents, LLMs and Smart Apps Report - 2023\n",
            "Link: https://ai-infrastructure.org/agents-llms-and-smart-apps-report-2023/\n",
            "Snippet: Our biggest report of the year covers the wide world of agents, large language models and smart apps. This massive guide dives deep into the next-gen emerging ...\n",
            "---\n",
            "Title: The Rise and Potential of Large Language Model Based Agents\n",
            "Link: https://arxiv.org/abs/2309.07864\n",
            "Snippet: Due to the versatile capabilities they demonstrate, large language models (LLMs) are regarded as potential sparks for Artificial General ...\n",
            "---\n",
            "Title: Top “AI Agents” backed with Large Language Models - GoPenAI\n",
            "Link: https://blog.gopenai.com/discover-cutting-edge-ai-agents-making-waves-in-the-industry-3f874b11a254\n",
            "Snippet: The TOP Agents · JARVIS from Microsoft · Auto-evaluator · AutoGPT : An Autonomous GPT-4 Experiment · Autonomous AI · MicroGPT · AgentGPT · BabyAGI · Teenage-AGI.\n",
            "---\n",
            "Title: Multimodality, Tool Use, and Autonomous Agents: Large Language ...\n",
            "Link: https://cset.georgetown.edu/article/multimodality-tool-use-and-autonomous-agents/\n",
            "Snippet: Large language models (LLMs), the technology that powers generative artificial intelligence (AI) products like ChatGPT or Google Gemini, ...\n",
            "---\n",
            "Title: The Dawn of Synthetic Brains: How Large Language Models Are ...\n",
            "Link: https://medium.com/@prdeepak.babu/the-dawn-of-synthetic-brains-how-large-language-models-are-shaping-ai-agents-640a78f3a830\n",
            "Snippet: While Large Language Models (LLMs) have significantly advanced the prospects of Artificial General Intelligence (AGI) agents, key challenges ...\n",
            "---\n",
            "Title: Multi-AI collaboration helps reasoning and factual accuracy in large ...\n",
            "Link: https://news.mit.edu/2023/multi-ai-collaboration-helps-reasoning-factual-accuracy-language-models-0918\n",
            "Snippet: A new method enables multiple AI language models to engage in collaborative debates, refining their accuracy and decision-making.\n",
            "---\n",
            "Title: [PDF] A Survey on Large Language Model based Autonomous Agents\n",
            "Link: https://arxiv.org/pdf/2308.11432.pdf%EF%BC%89\n",
            "Snippet: We present the cumulative number of papers published from January 2021 to August 2023. We assign different colors to represent various agent ...\n",
            "---\n",
            "Title: Top Large Language Models for 2023 - LinkedIn\n",
            "Link: https://www.linkedin.com/pulse/top-large-language-models-2023-akira-xai-w7icf\n",
            "Snippet: Large language models are advanced AI systems capable of understanding and generating human language. They are built using complex neural ...\n",
            "---\n",
            "Title: The Rise and Potential of Large Language Model Based Agents\n",
            "Link: https://huggingface.co/papers/2309.07864\n",
            "Snippet: Due to the versatile and remarkable capabilities they demonstrate, large language models (LLMs) are regarded as potential sparks for Artificial ...\n",
            "---\n",
            "Title: 16 of the best large language models - TechTarget\n",
            "Link: https://www.techtarget.com/whatis/feature/12-of-the-best-large-language-models\n",
            "Snippet: Large Language Model Meta AI (Llama) is Meta's LLM released in 2023. The largest version is 65 billion parameters in size. Llama was originally ...\n",
            "---\n",
            "\n",
            "\u001b[00m\n",
            "\u001b[93m \n",
            "\n",
            "\n",
            "Search results: Title: The state of AI in 2023: Generative AI's breakout year | McKinsey\n",
            "Link: https://www.mckinsey.com/capabilities/quantumblack/our-insights/the-state-of-ai-in-2023-generative-ais-breakout-year\n",
            "Snippet: Explore McKinsey's State of AI in 2023 report, a detailed new survey that looks at how generative AI is reshaping the world's industries and ...\n",
            "---\n",
            "Title: Generative AI's wild 2023 | Reuters\n",
            "Link: https://www.reuters.com/technology/generative-ais-wild-2023-2024-01-03/\n",
            "Snippet: 30 launch of the generative artificial intelligence-powered chatbot, OpenAI, the non-profit behind ChatGPT, was projected to rake in as much as ...\n",
            "---\n",
            "Title: The Top 10 Generative AI Advancements in 2023 - Rod Trent\n",
            "Link: https://rodtrent.substack.com/p/the-top-10-generative-ai-advancements\n",
            "Snippet: The Top 10 Generative AI Advancements in 2023 · 1. GPT-4: The largest and most powerful language model ever · 2. DALL-E: The first image ...\n",
            "---\n",
            "Title: 2023 KPMG Generative AI Survey\n",
            "Link: https://kpmg.com/us/en/articles/2023/generative-artificial-intelligence-2023.html\n",
            "Snippet: When asked in March 2023, 78% selected generative AI as the top emerging technology over the next 3-5 years. Functional area impact. IT/Tech, operations, and ...\n",
            "---\n",
            "Title: Exploring The Future: 5 Cutting-Edge Generative AI Trends In 2024\n",
            "Link: https://www.forbes.com/sites/janakirammsv/2024/01/02/exploring-the-future-5-cutting-edge-generative-ai-trends-in-2024/\n",
            "Snippet: The year 2023 marked a watershed moment in the evolution of technology, with generative AI becoming mainstream. As we begin 2024, ...\n",
            "---\n",
            "Title: Generative AI filled us with wonder in 2023 - but all magic comes ...\n",
            "Link: https://www.zdnet.com/article/generative-ai-filled-us-with-wonder-in-2023-but-all-magic-comes-with-a-price/\n",
            "Snippet: AI has blossomed in 2023 unlike any other year in the half-century or more it's been with us. The technology has opened the door to powerful ...\n",
            "---\n",
            "Title: 2023: The Year of Generative AI Breakthroughs - LinkedIn\n",
            "Link: https://www.linkedin.com/pulse/2023-year-generative-ai-breakthroughs-richard-la-faber-kvlic\n",
            "Snippet: As we reflect on the advancements in generative AI in 2023, it's clear that this year has been a turning point in the history of technology. The ...\n",
            "---\n",
            "Title: 10 top AI and machine learning trends for 2024 | TechTarget\n",
            "Link: https://www.techtarget.com/searchenterpriseai/tip/9-top-AI-and-machine-learning-trends\n",
            "Snippet: 4. Retrieval-augmented generation. Although generative AI tools were widely adopted in 2023, they continue to be plagued by the problem of ...\n",
            "---\n",
            "Title: The rise of generative AI: A timeline of breakthrough innovations\n",
            "Link: https://www.qualcomm.com/news/onq/2024/02/the-rise-of-generative-ai-timeline-of-breakthrough-innovations\n",
            "Snippet: New advancements in generative AI may spur laptop replacements and a general move from the cloud to on-device processing. Personal AI assistants ...\n",
            "---\n",
            "\n",
            "\u001b[00m\n",
            "\u001b[1m\u001b[92m [DEBUG]: == [Senior Research Assistant] Task output: Based on the information gathered, here is a comprehensive analysis of the latest advancements in AI Agents as of 2023:\n",
            "\n",
            "- **Large Language Models (LLMs)**: The development and deployment of LLMs, such as OpenAI's GPT-4, have been a significant breakthrough. These models have enhanced the capabilities of AI agents, enabling them to understand and generate human-like text, making them more versatile and powerful.\n",
            "\n",
            "- **Generative AI**: 2023 has been marked as a breakout year for generative AI, reshaping industries by providing tools that can generate original content, including text, images, and videos. This technology has become mainstream, with applications ranging from creative arts to technical content creation.\n",
            "\n",
            "- **Multimedia Capabilities**: Advancements in AI agents' multimedia capabilities, especially in video generation, have been noted. This includes the ability to create and manipulate multimedia content in ways that were previously complex and time-consuming, opening new avenues for content creation and interaction.\n",
            "\n",
            "- **Multimodality**: The trend towards multimodal AI agents, which can understand and generate content across different formats (text, images, video, etc.), has been highlighted as a key innovation. This allows for more natural and versatile interactions between AI agents and users.\n",
            "\n",
            "- **Constitutional AI**: The development of constitutional AI, which involves embedding ethical guidelines and rules into AI systems to guide their decisions and interactions, has been identified as an important innovation. This aims to ensure AI agents act in ways that are ethical and aligned with human values.\n",
            "\n",
            "- **Text-to-Video**: The ability to convert text descriptions into video content is another notable advancement. This technology has significant implications for the entertainment industry, education, and content marketing, offering new ways to create engaging and informative video content.\n",
            "\n",
            "- **Collaborative AI**: The introduction of methods enabling multiple AI agents to collaborate and debate has improved their reasoning and factual accuracy. This collaborative approach enhances decision-making processes and the reliability of information provided by AI agents.\n",
            "\n",
            "- **AI in Healthcare**: The application of AI agents in healthcare has seen significant advancements, with AI playing a crucial role in diagnostics, patient care, and personalized medicine. This includes the use of AI for analyzing medical images, predicting patient outcomes, and providing decision support for healthcare professionals.\n",
            "\n",
            "- **AI-Powered Cybersecurity**: The use of AI agents in cybersecurity has become more prevalent, with AI being used to detect and respond to cyber threats more efficiently. This includes the use of AI for real-time monitoring, threat detection, and automated responses to security incidents.\n",
            "\n",
            "- **Manufacturing Hyper Automation**: AI agents are increasingly being used to automate complex manufacturing processes, leading to improvements in efficiency, productivity, and flexibility. This includes the use of AI for predictive maintenance, quality control, and supply chain optimization.\n",
            "\n",
            "These advancements in AI agents are driving significant changes across various industries, offering new opportunities for innovation and efficiency. However, they also raise important considerations regarding ethics, privacy, and the potential impact on employment.\n",
            "\n",
            "\u001b[00m\n",
            "\u001b[1m\u001b[93m [DEBUG]: == Working Agent: Professional Short-Article Writer\u001b[00m\n",
            "\n",
            "\n",
            "\u001b[1m> Entering new CrewAgentExecutor chain...\u001b[0m\n",
            "\u001b[32;1m\u001b[1;3mThought: To create an engaging and informative article, I need to distill the provided advancements into key themes that will resonate with a tech-savvy audience. The article should highlight the transformative impact of AI agents in 2023, focusing on their increased capabilities, applications across industries, and the ethical considerations that come with these advancements. The challenge is to present this information in a way that's accessible, avoiding jargon, and making the concepts relatable to the reader.\n",
            "\n",
            "Final Answer:\n",
            "### The Dawn of AI Agents: Revolutionizing 2023\n",
            "\n",
            "In an era where technology is in constant flux, 2023 has emerged as a watershed year for artificial intelligence (AI), particularly in the realm of AI agents. These advanced systems have not just crossed new frontiers; they are rewriting the rules of what machines can do. From crafting poetry to diagnosing diseases, AI agents are now integral players in creative, technical, and medical fields. But what exactly has changed this year to push AI into the spotlight?\n",
            "\n",
            "**A Leap in Language and Creativity**\n",
            "\n",
            "At the heart of this revolution are Large Language Models (LLMs) like GPT-4, which have propelled AI agents to new heights. Imagine having a conversation with an AI that understands nuance and context as well as any human. These models have made this scenario a reality, enabling AI agents to generate human-like text that's both engaging and insightful. But the advancements don't stop at text. 2023 has been marked by a surge in generative AI, allowing AI to produce original content across the board – be it text, images, or videos. This leap in creativity means AI can now assist in everything from drafting articles to designing digital art, making the creative process more collaborative than ever before.\n",
            "\n",
            "**From Multimodality to Ethical AI**\n",
            "\n",
            "This year has also seen AI break free from the constraints of single formats. Multimodal AI agents can now understand and generate content across different formats, including text, images, and video, making interactions with AI more natural and versatile. With these advancements, the line between content created by humans and AI is becoming increasingly blurred. Moreover, the rise of constitutional AI introduces an ethical dimension to these digital minds, embedding moral guidelines into their decision-making processes. This innovation aims to ensure that as AI agents become more autonomous, they remain aligned with human values and ethics.\n",
            "\n",
            "**Transforming Industries and Raising Questions**\n",
            "\n",
            "AI's impact in 2023 extends far beyond creativity and ethics. In healthcare, AI agents are revolutionizing diagnostics and patient care, offering personalized treatment plans with unprecedented precision. In cybersecurity, they're our newest soldiers on the frontline against digital threats, using real-time monitoring and automated responses to protect our data. And in manufacturing, AI-driven hyper-automation is setting new standards for efficiency and productivity.\n",
            "\n",
            "As we marvel at the capabilities of AI agents, it's also crucial to engage in conversations about their implications. The rise of AI brings with it questions about privacy, employment, and the very nature of creativity. As we navigate this new digital landscape, these discussions will shape how we integrate AI into our societies and ensure that this powerful technology benefits all of humanity.\n",
            "\n",
            "In 2023, AI agents are not just tools; they are collaborators, innovators, and, increasingly, ethical entities. As we stand on the brink of this new era, one thing is clear: the future is not just human or AI; it's a shared journey, and it's unfolding now.\u001b[0m\n",
            "\n",
            "\u001b[1m> Finished chain.\u001b[0m\n",
            "\u001b[1m\u001b[92m [DEBUG]: == [Professional Short-Article Writer] Task output: ### The Dawn of AI Agents: Revolutionizing 2023\n",
            "\n",
            "In an era where technology is in constant flux, 2023 has emerged as a watershed year for artificial intelligence (AI), particularly in the realm of AI agents. These advanced systems have not just crossed new frontiers; they are rewriting the rules of what machines can do. From crafting poetry to diagnosing diseases, AI agents are now integral players in creative, technical, and medical fields. But what exactly has changed this year to push AI into the spotlight?\n",
            "\n",
            "**A Leap in Language and Creativity**\n",
            "\n",
            "At the heart of this revolution are Large Language Models (LLMs) like GPT-4, which have propelled AI agents to new heights. Imagine having a conversation with an AI that understands nuance and context as well as any human. These models have made this scenario a reality, enabling AI agents to generate human-like text that's both engaging and insightful. But the advancements don't stop at text. 2023 has been marked by a surge in generative AI, allowing AI to produce original content across the board – be it text, images, or videos. This leap in creativity means AI can now assist in everything from drafting articles to designing digital art, making the creative process more collaborative than ever before.\n",
            "\n",
            "**From Multimodality to Ethical AI**\n",
            "\n",
            "This year has also seen AI break free from the constraints of single formats. Multimodal AI agents can now understand and generate content across different formats, including text, images, and video, making interactions with AI more natural and versatile. With these advancements, the line between content created by humans and AI is becoming increasingly blurred. Moreover, the rise of constitutional AI introduces an ethical dimension to these digital minds, embedding moral guidelines into their decision-making processes. This innovation aims to ensure that as AI agents become more autonomous, they remain aligned with human values and ethics.\n",
            "\n",
            "**Transforming Industries and Raising Questions**\n",
            "\n",
            "AI's impact in 2023 extends far beyond creativity and ethics. In healthcare, AI agents are revolutionizing diagnostics and patient care, offering personalized treatment plans with unprecedented precision. In cybersecurity, they're our newest soldiers on the frontline against digital threats, using real-time monitoring and automated responses to protect our data. And in manufacturing, AI-driven hyper-automation is setting new standards for efficiency and productivity.\n",
            "\n",
            "As we marvel at the capabilities of AI agents, it's also crucial to engage in conversations about their implications. The rise of AI brings with it questions about privacy, employment, and the very nature of creativity. As we navigate this new digital landscape, these discussions will shape how we integrate AI into our societies and ensure that this powerful technology benefits all of humanity.\n",
            "\n",
            "In 2023, AI agents are not just tools; they are collaborators, innovators, and, increasingly, ethical entities. As we stand on the brink of this new era, one thing is clear: the future is not just human or AI; it's a shared journey, and it's unfolding now.\n",
            "\n",
            "\u001b[00m\n",
            "######################################################################\n",
            "### The Dawn of AI Agents: Revolutionizing 2023\n",
            "\n",
            "In an era where technology is in constant flux, 2023 has emerged as a watershed year for artificial intelligence (AI), particularly in the realm of AI agents. These advanced systems have not just crossed new frontiers; they are rewriting the rules of what machines can do. From crafting poetry to diagnosing diseases, AI agents are now integral players in creative, technical, and medical fields. But what exactly has changed this year to push AI into the spotlight?\n",
            "\n",
            "**A Leap in Language and Creativity**\n",
            "\n",
            "At the heart of this revolution are Large Language Models (LLMs) like GPT-4, which have propelled AI agents to new heights. Imagine having a conversation with an AI that understands nuance and context as well as any human. These models have made this scenario a reality, enabling AI agents to generate human-like text that's both engaging and insightful. But the advancements don't stop at text. 2023 has been marked by a surge in generative AI, allowing AI to produce original content across the board – be it text, images, or videos. This leap in creativity means AI can now assist in everything from drafting articles to designing digital art, making the creative process more collaborative than ever before.\n",
            "\n",
            "**From Multimodality to Ethical AI**\n",
            "\n",
            "This year has also seen AI break free from the constraints of single formats. Multimodal AI agents can now understand and generate content across different formats, including text, images, and video, making interactions with AI more natural and versatile. With these advancements, the line between content created by humans and AI is becoming increasingly blurred. Moreover, the rise of constitutional AI introduces an ethical dimension to these digital minds, embedding moral guidelines into their decision-making processes. This innovation aims to ensure that as AI agents become more autonomous, they remain aligned with human values and ethics.\n",
            "\n",
            "**Transforming Industries and Raising Questions**\n",
            "\n",
            "AI's impact in 2023 extends far beyond creativity and ethics. In healthcare, AI agents are revolutionizing diagnostics and patient care, offering personalized treatment plans with unprecedented precision. In cybersecurity, they're our newest soldiers on the frontline against digital threats, using real-time monitoring and automated responses to protect our data. And in manufacturing, AI-driven hyper-automation is setting new standards for efficiency and productivity.\n",
            "\n",
            "As we marvel at the capabilities of AI agents, it's also crucial to engage in conversations about their implications. The rise of AI brings with it questions about privacy, employment, and the very nature of creativity. As we navigate this new digital landscape, these discussions will shape how we integrate AI into our societies and ensure that this powerful technology benefits all of humanity.\n",
            "\n",
            "In 2023, AI agents are not just tools; they are collaborators, innovators, and, increasingly, ethical entities. As we stand on the brink of this new era, one thing is clear: the future is not just human or AI; it's a shared journey, and it's unfolding now.\n"
          ]
        }
      ]
    }
  ]
}